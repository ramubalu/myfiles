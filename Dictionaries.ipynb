{
  "nbformat": 4,
  "nbformat_minor": 0,
  "metadata": {
    "colab": {
      "name": "Dictionaries.ipynb",
      "version": "0.3.2",
      "provenance": [],
      "collapsed_sections": [],
      "include_colab_link": true
    },
    "kernelspec": {
      "name": "python3",
      "display_name": "Python 3"
    }
  },
  "cells": [
    {
      "cell_type": "markdown",
      "metadata": {
        "id": "view-in-github",
        "colab_type": "text"
      },
      "source": [
        "<a href=\"https://colab.research.google.com/github/ramubalu/myfiles/blob/master/Dictionaries.ipynb\" target=\"_parent\"><img src=\"https://colab.research.google.com/assets/colab-badge.svg\" alt=\"Open In Colab\"/></a>"
      ]
    },
    {
      "metadata": {
        "id": "IRJ4IBnaZMsC",
        "colab_type": "text"
      },
      "cell_type": "markdown",
      "source": [
        "**Dictionaries**"
      ]
    },
    {
      "metadata": {
        "id": "mwXXhMBSKy4c",
        "colab_type": "code",
        "colab": {}
      },
      "cell_type": "code",
      "source": [
        "a={\"a\":1,\"b\":2,\"c\":3,\"d\":4}\n"
      ],
      "execution_count": 0,
      "outputs": []
    },
    {
      "metadata": {
        "id": "-psCAiV8K92L",
        "colab_type": "code",
        "outputId": "a80f9ea9-e576-4bbc-c2d6-c71e1626234a",
        "colab": {
          "base_uri": "https://localhost:8080/",
          "height": 34
        }
      },
      "cell_type": "code",
      "source": [
        "print(a)"
      ],
      "execution_count": 0,
      "outputs": [
        {
          "output_type": "stream",
          "text": [
            "{'a': 1, 'b': 2, 'c': 3, 'd': 4}\n"
          ],
          "name": "stdout"
        }
      ]
    },
    {
      "metadata": {
        "id": "Yay9KHSpLIsq",
        "colab_type": "code",
        "colab": {}
      },
      "cell_type": "code",
      "source": [
        "a[\"e\"]=5"
      ],
      "execution_count": 0,
      "outputs": []
    },
    {
      "metadata": {
        "id": "XwBoPxrPLVY7",
        "colab_type": "code",
        "outputId": "3cb0b127-9cf5-4233-d8d8-0580549437cc",
        "colab": {
          "base_uri": "https://localhost:8080/",
          "height": 34
        }
      },
      "cell_type": "code",
      "source": [
        "print(a)"
      ],
      "execution_count": 0,
      "outputs": [
        {
          "output_type": "stream",
          "text": [
            "{'a': 1, 'b': 2, 'c': 3, 'd': 4, 'e': 5}\n"
          ],
          "name": "stdout"
        }
      ]
    },
    {
      "metadata": {
        "id": "BhQcUbmqLash",
        "colab_type": "code",
        "colab": {}
      },
      "cell_type": "code",
      "source": [
        "del a[\"a\"]"
      ],
      "execution_count": 0,
      "outputs": []
    },
    {
      "metadata": {
        "id": "0gkmq-0kLe1O",
        "colab_type": "code",
        "outputId": "82990bb6-9cb4-4f88-bef6-9de7c192a502",
        "colab": {
          "base_uri": "https://localhost:8080/",
          "height": 34
        }
      },
      "cell_type": "code",
      "source": [
        "print(a)"
      ],
      "execution_count": 0,
      "outputs": [
        {
          "output_type": "stream",
          "text": [
            "{'b': 2, 'c': 3, 'd': 4, 'e': 5}\n"
          ],
          "name": "stdout"
        }
      ]
    },
    {
      "metadata": {
        "id": "dag4rje-LkRR",
        "colab_type": "code",
        "outputId": "dfce9ab3-5b5b-4f1c-a4b9-37a3eb7bb490",
        "colab": {
          "base_uri": "https://localhost:8080/",
          "height": 34
        }
      },
      "cell_type": "code",
      "source": [
        "len(a)"
      ],
      "execution_count": 0,
      "outputs": [
        {
          "output_type": "execute_result",
          "data": {
            "text/plain": [
              "4"
            ]
          },
          "metadata": {
            "tags": []
          },
          "execution_count": 9
        }
      ]
    },
    {
      "metadata": {
        "id": "HFstl-iJLqp1",
        "colab_type": "code",
        "outputId": "6513112d-a5ad-48cf-a323-d6ce1bb95be8",
        "colab": {
          "base_uri": "https://localhost:8080/",
          "height": 34
        }
      },
      "cell_type": "code",
      "source": [
        "'a' in a"
      ],
      "execution_count": 0,
      "outputs": [
        {
          "output_type": "execute_result",
          "data": {
            "text/plain": [
              "False"
            ]
          },
          "metadata": {
            "tags": []
          },
          "execution_count": 10
        }
      ]
    },
    {
      "metadata": {
        "id": "3u_qG5RTLac9",
        "colab_type": "code",
        "outputId": "74055d44-baa5-4b38-f2c3-3786fcd2a3fb",
        "colab": {
          "base_uri": "https://localhost:8080/",
          "height": 34
        }
      },
      "cell_type": "code",
      "source": [
        "'b' in a"
      ],
      "execution_count": 0,
      "outputs": [
        {
          "output_type": "execute_result",
          "data": {
            "text/plain": [
              "True"
            ]
          },
          "metadata": {
            "tags": []
          },
          "execution_count": 11
        }
      ]
    },
    {
      "metadata": {
        "id": "JlJ8ZVibM1J8",
        "colab_type": "code",
        "outputId": "e7f54e80-8f80-43af-b57f-0e6ae5347d65",
        "colab": {
          "base_uri": "https://localhost:8080/",
          "height": 34
        }
      },
      "cell_type": "code",
      "source": [
        "  if 'c' in a:\n",
        "    print(\"Ok\")\n",
        "  else:\n",
        "    print( \"not ok\")"
      ],
      "execution_count": 0,
      "outputs": [
        {
          "output_type": "stream",
          "text": [
            "Ok\n"
          ],
          "name": "stdout"
        }
      ]
    },
    {
      "metadata": {
        "id": "4gLTt005wnBG",
        "colab_type": "code",
        "outputId": "8ff21cd2-8994-48b3-c2c8-38a1d53942e3",
        "colab": {
          "base_uri": "https://localhost:8080/",
          "height": 204
        }
      },
      "cell_type": "code",
      "source": [
        "a"
      ],
      "execution_count": 0,
      "outputs": [
        {
          "output_type": "execute_result",
          "data": {
            "text/plain": [
              "{'b': 2,\n",
              " 'c': 3,\n",
              " 'd': 4,\n",
              " 'e': 5,\n",
              " 'g': 7,\n",
              " 'h': 8,\n",
              " 'l': 13,\n",
              " 'ljjkkl': 13,\n",
              " 'm': 12,\n",
              " 'mnn': 12,\n",
              " 'zx': 14}"
            ]
          },
          "metadata": {
            "tags": []
          },
          "execution_count": 75
        }
      ]
    },
    {
      "metadata": {
        "id": "6ZLZkVnaNw-5",
        "colab_type": "text"
      },
      "cell_type": "markdown",
      "source": [
        "Doubt???"
      ]
    },
    {
      "metadata": {
        "id": "MnttBx0_NR3G",
        "colab_type": "code",
        "outputId": "a01c19c7-bd7e-4e33-d072-8e0af7abf3ba",
        "colab": {
          "base_uri": "https://localhost:8080/",
          "height": 34
        }
      },
      "cell_type": "code",
      "source": [
        "for alpha in a:\n",
        "  if  in a:\n",
        "    print(\"Ok\")\n",
        "    break \n",
        "  else:\n",
        "    print( \"not ok\")"
      ],
      "execution_count": 0,
      "outputs": [
        {
          "output_type": "stream",
          "text": [
            "Ok\n"
          ],
          "name": "stdout"
        }
      ]
    },
    {
      "metadata": {
        "id": "9aIJOFhiOmYk",
        "colab_type": "code",
        "outputId": "d8e9b7cc-6414-4fa7-d753-2c0e57fc8d25",
        "colab": {
          "base_uri": "https://localhost:8080/",
          "height": 34
        }
      },
      "cell_type": "code",
      "source": [
        "print(a)"
      ],
      "execution_count": 0,
      "outputs": [
        {
          "output_type": "stream",
          "text": [
            "{'b': 2, 'c': 3, 'd': 4, 'e': 5}\n"
          ],
          "name": "stdout"
        }
      ]
    },
    {
      "metadata": {
        "id": "CsMenQpoNqy0",
        "colab_type": "code",
        "outputId": "f3af49a7-d167-40f5-87c3-8dbddcbba6a8",
        "colab": {
          "base_uri": "https://localhost:8080/",
          "height": 34
        }
      },
      "cell_type": "code",
      "source": [
        "print(a.get('d','f'))"
      ],
      "execution_count": 0,
      "outputs": [
        {
          "output_type": "stream",
          "text": [
            "4\n"
          ],
          "name": "stdout"
        }
      ]
    },
    {
      "metadata": {
        "id": "efdRi8cEORGp",
        "colab_type": "code",
        "outputId": "0e5b8ccc-4abe-42e5-c07b-a481e4291a2b",
        "colab": {
          "base_uri": "https://localhost:8080/",
          "height": 34
        }
      },
      "cell_type": "code",
      "source": [
        "print(a.get('d','b'))"
      ],
      "execution_count": 0,
      "outputs": [
        {
          "output_type": "stream",
          "text": [
            "4\n"
          ],
          "name": "stdout"
        }
      ]
    },
    {
      "metadata": {
        "id": "Wsp1vdx7OixV",
        "colab_type": "code",
        "outputId": "c180e25c-ea61-4d03-b1d9-98c03c82146a",
        "colab": {
          "base_uri": "https://localhost:8080/",
          "height": 34
        }
      },
      "cell_type": "code",
      "source": [
        "print(a.get('b','d'))"
      ],
      "execution_count": 0,
      "outputs": [
        {
          "output_type": "stream",
          "text": [
            "2\n"
          ],
          "name": "stdout"
        }
      ]
    },
    {
      "metadata": {
        "id": "AEdd-ppOOx8z",
        "colab_type": "code",
        "outputId": "fcf6b63a-5fd2-4744-e883-89942ba1fd81",
        "colab": {
          "base_uri": "https://localhost:8080/",
          "height": 34
        }
      },
      "cell_type": "code",
      "source": [
        "print(a.get('b'))"
      ],
      "execution_count": 0,
      "outputs": [
        {
          "output_type": "stream",
          "text": [
            "2\n"
          ],
          "name": "stdout"
        }
      ]
    },
    {
      "metadata": {
        "id": "bAJSH2PzPQJW",
        "colab_type": "text"
      },
      "cell_type": "markdown",
      "source": [
        "get in one line"
      ]
    },
    {
      "metadata": {
        "id": "0i_smeSVO04e",
        "colab_type": "code",
        "outputId": "94348c28-4875-4eb2-a24a-f84779ebdc86",
        "colab": {
          "base_uri": "https://localhost:8080/",
          "height": 153
        }
      },
      "cell_type": "code",
      "source": [
        "for all in a:\n",
        "  print(all)\n",
        "  print(a.get(all))"
      ],
      "execution_count": 0,
      "outputs": [
        {
          "output_type": "stream",
          "text": [
            "b\n",
            "2\n",
            "c\n",
            "3\n",
            "d\n",
            "4\n",
            "e\n",
            "5\n"
          ],
          "name": "stdout"
        }
      ]
    },
    {
      "metadata": {
        "id": "vBGjUYkJPAc_",
        "colab_type": "code",
        "outputId": "715cc92c-b09d-49f6-f25c-feafb240d5c6",
        "colab": {
          "base_uri": "https://localhost:8080/",
          "height": 85
        }
      },
      "cell_type": "code",
      "source": [
        "for x,y in a.items():\n",
        "  print( x,\"=>\",y)"
      ],
      "execution_count": 0,
      "outputs": [
        {
          "output_type": "stream",
          "text": [
            "b => 2\n",
            "c => 3\n",
            "d => 4\n",
            "e => 5\n"
          ],
          "name": "stdout"
        }
      ]
    },
    {
      "metadata": {
        "id": "johO2oHDPoSA",
        "colab_type": "text"
      },
      "cell_type": "markdown",
      "source": [
        "can we have a set of 3 items\n",
        "how does it understand the above command"
      ]
    },
    {
      "metadata": {
        "id": "cgRfNgF7PfBt",
        "colab_type": "code",
        "outputId": "2fc552b7-dc13-4b79-82f8-127d4f5358f4",
        "colab": {
          "base_uri": "https://localhost:8080/",
          "height": 34
        }
      },
      "cell_type": "code",
      "source": [
        "beta=a.keys()\n",
        "print(beta)"
      ],
      "execution_count": 0,
      "outputs": [
        {
          "output_type": "stream",
          "text": [
            "dict_keys(['b', 'c', 'd', 'e'])\n"
          ],
          "name": "stdout"
        }
      ]
    },
    {
      "metadata": {
        "id": "cTl-L9isZ_TF",
        "colab_type": "code",
        "outputId": "a2ccb79f-fc7f-4dce-a068-497086c336d2",
        "colab": {
          "base_uri": "https://localhost:8080/",
          "height": 34
        }
      },
      "cell_type": "code",
      "source": [
        "print(\"aa =>\",a.keys())"
      ],
      "execution_count": 0,
      "outputs": [
        {
          "output_type": "stream",
          "text": [
            "aa => dict_keys(['b', 'c', 'd', 'e'])\n"
          ],
          "name": "stdout"
        }
      ]
    },
    {
      "metadata": {
        "id": "ts-LTrjVQBFQ",
        "colab_type": "code",
        "outputId": "9bcd6bf7-9b4d-4cd1-c076-f517ddb16089",
        "colab": {
          "base_uri": "https://localhost:8080/",
          "height": 34
        }
      },
      "cell_type": "code",
      "source": [
        "alpha=a.values()\n",
        "print(alpha)\n"
      ],
      "execution_count": 0,
      "outputs": [
        {
          "output_type": "stream",
          "text": [
            "dict_values([2, 3, 4, 5, 8, 7, 12, 13, 12, 13, 14])\n"
          ],
          "name": "stdout"
        }
      ]
    },
    {
      "metadata": {
        "id": "dTCtQjoOvNq2",
        "colab_type": "code",
        "colab": {}
      },
      "cell_type": "code",
      "source": [
        "ak={}\n",
        "ak['eng']=['str','hi']\n",
        "ak['span']=['asd','asdf']"
      ],
      "execution_count": 0,
      "outputs": []
    },
    {
      "metadata": {
        "id": "iPxoPF0tvZAF",
        "colab_type": "code",
        "outputId": "7529872d-11c4-469d-b532-98b27c7cb34f",
        "colab": {
          "base_uri": "https://localhost:8080/",
          "height": 51
        }
      },
      "cell_type": "code",
      "source": [
        "for i in ak:\n",
        "  print(ak[i][0])"
      ],
      "execution_count": 0,
      "outputs": [
        {
          "output_type": "stream",
          "text": [
            "str\n",
            "asd\n"
          ],
          "name": "stdout"
        }
      ]
    },
    {
      "metadata": {
        "id": "cCzwMvQFao4t",
        "colab_type": "code",
        "outputId": "d665c8b0-8818-411d-b3af-b3f8860d1e8e",
        "colab": {
          "base_uri": "https://localhost:8080/",
          "height": 204
        }
      },
      "cell_type": "code",
      "source": [
        "for v in a:\n",
        "  c=a[v]\n",
        "  print(c)"
      ],
      "execution_count": 0,
      "outputs": [
        {
          "output_type": "stream",
          "text": [
            "2\n",
            "3\n",
            "4\n",
            "5\n",
            "8\n",
            "7\n",
            "12\n",
            "13\n",
            "12\n",
            "13\n",
            "14\n"
          ],
          "name": "stdout"
        }
      ]
    },
    {
      "metadata": {
        "id": "PR97lQWZZ0Fz",
        "colab_type": "code",
        "outputId": "9083358c-1c20-461d-c780-9a0923522813",
        "colab": {
          "base_uri": "https://localhost:8080/",
          "height": 164
        }
      },
      "cell_type": "code",
      "source": [
        "print(\"aa\",a.join(a))"
      ],
      "execution_count": 0,
      "outputs": [
        {
          "output_type": "error",
          "ename": "AttributeError",
          "evalue": "ignored",
          "traceback": [
            "\u001b[0;31m---------------------------------------------------------------------------\u001b[0m",
            "\u001b[0;31mAttributeError\u001b[0m                            Traceback (most recent call last)",
            "\u001b[0;32m<ipython-input-32-7e59f495a84b>\u001b[0m in \u001b[0;36m<module>\u001b[0;34m()\u001b[0m\n\u001b[0;32m----> 1\u001b[0;31m \u001b[0mprint\u001b[0m\u001b[0;34m(\u001b[0m\u001b[0ma\u001b[0m\u001b[0;34m.\u001b[0m\u001b[0mjoin\u001b[0m\u001b[0;34m(\u001b[0m\u001b[0ma\u001b[0m\u001b[0;34m)\u001b[0m\u001b[0;34m)\u001b[0m\u001b[0;34m\u001b[0m\u001b[0m\n\u001b[0m",
            "\u001b[0;31mAttributeError\u001b[0m: 'dict' object has no attribute 'join'"
          ]
        }
      ]
    },
    {
      "metadata": {
        "id": "P7eyL1f-vrei",
        "colab_type": "code",
        "outputId": "085eccea-5648-4550-a13f-1a93f680a9f1",
        "colab": {
          "base_uri": "https://localhost:8080/",
          "height": 34
        }
      },
      "cell_type": "code",
      "source": [
        "l=['a','k','s','h']\n",
        "print('_'.join(l))"
      ],
      "execution_count": 0,
      "outputs": [
        {
          "output_type": "stream",
          "text": [
            "a_k_s_h\n"
          ],
          "name": "stdout"
        }
      ]
    },
    {
      "metadata": {
        "id": "lWKuLW3GaNFT",
        "colab_type": "code",
        "outputId": "04450788-33b2-41c8-fd68-4ba9554c3f99",
        "colab": {
          "base_uri": "https://localhost:8080/",
          "height": 164
        }
      },
      "cell_type": "code",
      "source": [
        "pprint.pprint(a)"
      ],
      "execution_count": 0,
      "outputs": [
        {
          "output_type": "error",
          "ename": "NameError",
          "evalue": "ignored",
          "traceback": [
            "\u001b[0;31m---------------------------------------------------------------------------\u001b[0m",
            "\u001b[0;31mNameError\u001b[0m                                 Traceback (most recent call last)",
            "\u001b[0;32m<ipython-input-37-a34d42567cfa>\u001b[0m in \u001b[0;36m<module>\u001b[0;34m()\u001b[0m\n\u001b[0;32m----> 1\u001b[0;31m \u001b[0mpprint\u001b[0m\u001b[0;34m.\u001b[0m\u001b[0mpprint\u001b[0m\u001b[0;34m(\u001b[0m\u001b[0ma\u001b[0m\u001b[0;34m)\u001b[0m\u001b[0;34m\u001b[0m\u001b[0m\n\u001b[0m",
            "\u001b[0;31mNameError\u001b[0m: name 'pprint' is not defined"
          ]
        }
      ]
    },
    {
      "metadata": {
        "id": "P7R8r2LJbQpc",
        "colab_type": "code",
        "outputId": "3bbeafee-6fff-4bba-d95c-301821cd0ac0",
        "colab": {
          "base_uri": "https://localhost:8080/",
          "height": 85
        }
      },
      "cell_type": "code",
      "source": [
        "for x,y in sorted(a.items()):\n",
        "  print(x,y)"
      ],
      "execution_count": 0,
      "outputs": [
        {
          "output_type": "stream",
          "text": [
            "b 2\n",
            "c 3\n",
            "d 4\n",
            "e 5\n"
          ],
          "name": "stdout"
        }
      ]
    },
    {
      "metadata": {
        "id": "F_hSfMJEbcTM",
        "colab_type": "code",
        "colab": {}
      },
      "cell_type": "code",
      "source": [
        "a[\"h\"]=8\n",
        "a[\"g\"]=7"
      ],
      "execution_count": 0,
      "outputs": []
    },
    {
      "metadata": {
        "id": "fDBz5nTzbgBP",
        "colab_type": "code",
        "outputId": "f71c92fd-94c3-41a0-e7c7-5a251dcc8c3e",
        "colab": {
          "base_uri": "https://localhost:8080/",
          "height": 34
        }
      },
      "cell_type": "code",
      "source": [
        "print(a)"
      ],
      "execution_count": 0,
      "outputs": [
        {
          "output_type": "stream",
          "text": [
            "{'b': 2, 'c': 3, 'd': 4, 'e': 5, 'h': 8, 'g': 7}\n"
          ],
          "name": "stdout"
        }
      ]
    },
    {
      "metadata": {
        "id": "5Gx1GcPxbskW",
        "colab_type": "code",
        "outputId": "af41b628-0b3c-43ac-a3c0-4cb68dbe6b55",
        "colab": {
          "base_uri": "https://localhost:8080/",
          "height": 119
        }
      },
      "cell_type": "code",
      "source": [
        "for x,y in sorted(a.items()):\n",
        "  print(x,y)"
      ],
      "execution_count": 0,
      "outputs": [
        {
          "output_type": "stream",
          "text": [
            "b 2\n",
            "c 3\n",
            "d 4\n",
            "e 5\n",
            "g 7\n",
            "h 8\n"
          ],
          "name": "stdout"
        }
      ]
    },
    {
      "metadata": {
        "id": "BlsEB8Kcbu__",
        "colab_type": "code",
        "outputId": "283d0668-158e-45be-fd0b-b1657687cd19",
        "colab": {
          "base_uri": "https://localhost:8080/",
          "height": 34
        }
      },
      "cell_type": "code",
      "source": [
        "print(a)"
      ],
      "execution_count": 0,
      "outputs": [
        {
          "output_type": "stream",
          "text": [
            "{'b': 2, 'c': 3, 'd': 4, 'e': 5, 'h': 8, 'g': 7}\n"
          ],
          "name": "stdout"
        }
      ]
    },
    {
      "metadata": {
        "id": "kFbF-unEbxCL",
        "colab_type": "code",
        "colab": {}
      },
      "cell_type": "code",
      "source": [
        "a[\"mnn\"]=12\n",
        "a[\"ljjkkl\"]=13\n",
        "a[\"zx\"]=14"
      ],
      "execution_count": 0,
      "outputs": []
    },
    {
      "metadata": {
        "id": "FSFqchHxb4l2",
        "colab_type": "code",
        "outputId": "d6b2b759-232f-419b-f020-7ba56046bfd5",
        "colab": {
          "base_uri": "https://localhost:8080/",
          "height": 34
        }
      },
      "cell_type": "code",
      "source": [
        "print(a)"
      ],
      "execution_count": 0,
      "outputs": [
        {
          "output_type": "stream",
          "text": [
            "{'b': 2, 'c': 3, 'd': 4, 'e': 5, 'h': 8, 'g': 7, 'm': 12, 'l': 13, 'mnn': 12, 'ljjkkl': 13, 'zx': 14}\n"
          ],
          "name": "stdout"
        }
      ]
    },
    {
      "metadata": {
        "id": "GC24SfoScKSC",
        "colab_type": "code",
        "outputId": "4149c415-2cfe-40f7-bc7d-e4bea3f13d23",
        "colab": {
          "base_uri": "https://localhost:8080/",
          "height": 204
        }
      },
      "cell_type": "code",
      "source": [
        "for x,y in sorted(a.items()):\n",
        "  print(x,y)"
      ],
      "execution_count": 0,
      "outputs": [
        {
          "output_type": "stream",
          "text": [
            "b 2\n",
            "c 3\n",
            "d 4\n",
            "e 5\n",
            "g 7\n",
            "h 8\n",
            "l 13\n",
            "ljjkkl 13\n",
            "m 12\n",
            "mnn 12\n",
            "zx 14\n"
          ],
          "name": "stdout"
        }
      ]
    },
    {
      "metadata": {
        "id": "tA0X5HPucMv1",
        "colab_type": "code",
        "outputId": "dd2f8bab-5a3d-4a4b-fc58-26edc1678bb3",
        "colab": {
          "base_uri": "https://localhost:8080/",
          "height": 204
        }
      },
      "cell_type": "code",
      "source": [
        "for l in sorted(a,key=len):\n",
        "  print(l,a[l])"
      ],
      "execution_count": 0,
      "outputs": [
        {
          "output_type": "stream",
          "text": [
            "b 2\n",
            "c 3\n",
            "d 4\n",
            "e 5\n",
            "h 8\n",
            "g 7\n",
            "m 12\n",
            "l 13\n",
            "zx 14\n",
            "mnn 12\n",
            "ljjkkl 13\n"
          ],
          "name": "stdout"
        }
      ]
    },
    {
      "metadata": {
        "id": "j0F-MdnOwKPR",
        "colab_type": "code",
        "outputId": "08c47ed7-810d-4717-9938-165d06a86b81",
        "colab": {
          "base_uri": "https://localhost:8080/",
          "height": 204
        }
      },
      "cell_type": "code",
      "source": [
        "a"
      ],
      "execution_count": 0,
      "outputs": [
        {
          "output_type": "execute_result",
          "data": {
            "text/plain": [
              "{'b': 2,\n",
              " 'c': 3,\n",
              " 'd': 4,\n",
              " 'e': 5,\n",
              " 'g': 7,\n",
              " 'h': 8,\n",
              " 'l': 13,\n",
              " 'ljjkkl': 13,\n",
              " 'm': 12,\n",
              " 'mnn': 12,\n",
              " 'zx': 14}"
            ]
          },
          "metadata": {
            "tags": []
          },
          "execution_count": 70
        }
      ]
    },
    {
      "metadata": {
        "id": "66iOH4tBcpbw",
        "colab_type": "code",
        "outputId": "175cdfc4-9722-47c5-d657-e455fb34c5ed",
        "colab": {
          "base_uri": "https://localhost:8080/",
          "height": 34
        }
      },
      "cell_type": "code",
      "source": [
        "c={}\n",
        "for e in a:\n",
        "  c[e]=c.get(e,0)+1\n",
        "print(c)"
      ],
      "execution_count": 0,
      "outputs": [
        {
          "output_type": "stream",
          "text": [
            "{'b': 1, 'c': 1, 'd': 1, 'e': 1, 'h': 1, 'g': 1, 'm': 1, 'l': 1, 'mnn': 1, 'ljjkkl': 1, 'zx': 1}\n"
          ],
          "name": "stdout"
        }
      ]
    },
    {
      "metadata": {
        "id": "Eur1eClpdbOd",
        "colab_type": "code",
        "colab": {}
      },
      "cell_type": "code",
      "source": [
        ""
      ],
      "execution_count": 0,
      "outputs": []
    }
  ]
}